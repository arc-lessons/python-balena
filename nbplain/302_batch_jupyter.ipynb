{
 "cells": [
  {
   "cell_type": "markdown",
   "metadata": {},
   "source": [
    "# Run Jupyter Notebooks in an Interactive Session"
   ]
  },
  {
   "cell_type": "markdown",
   "metadata": {},
   "source": [
    "## Overview:\n",
    "- **Teaching:** 0 min\n",
    "- **Exercises:** 0 min\n",
    "\n",
    "**Questions**\n",
    "- How can I run my code using Jupyter notebooks on Balena\n",
    "\n",
    "**Objectives**\n",
    "- Understand how to set-up and access Jupyter notebooks from an batch session on Balena"
   ]
  },
  {
   "cell_type": "markdown",
   "metadata": {},
   "source": [
    "## Login to Balena\n",
    "\n",
    "First of all you will need to login to Balena.\n",
    "\n",
    "You will need to submit a jobscript to launch the session.  You can download and copy this [example jobscript](../code/notebook.slurm) to Balena, or just create a file along the lines of the following.\n",
    "\n",
    "```\n",
    "#!/bin/bash\n",
    " \n",
    "#SBATCH --partition=batch\n",
    "#SBATCH --job-name=\"notebook\"\n",
    "#SBATCH --output=job.notebook.%j\n",
    " \n",
    "#SBATCH --nodes=1\n",
    " \n",
    " \n",
    "## 30 mintues\n",
    "#SBATCH --time=30\n",
    " \n",
    "module load python3/2019.x\n",
    " \n",
    "echo \"URL to CONNECT for JOB $SLURM_JOB_ID is http://$(host $(hostname) | awk 'NF>1{print $NF}')\"\n",
    " \n",
    "jupyter notebook --ip=\"*\" --no-browser\n",
    "```\n",
    "\n",
    "The jobscript interacts with the scheduler in exactly the same way as any other job so if you wanted to run longer jobs or use a premium account you just need to modify/enter the appropriate `#SBATCH` instructions in the file."
   ]
  },
  {
   "cell_type": "markdown",
   "metadata": {},
   "source": [
    "The Jupyter Notebook output that printed to screen in the interactive case printed to screen will now be output to the file `job.notebook.%j` where `%j` is the jobid in the scheduler.  If you do not use the provided jobscript, and do not specify the name of the output `#SBATCH --output=output_file` then the output will default to `slurm-<jobid>.out`.\n",
    "\n",
    "You should search the file for the IP address and the port with e.g.:\n",
    "\n",
    "```\n",
    "grep \"CONNECT\\|http\" job.notebook.<jobid>\n",
    "```\n",
    "\n",
    "which will give output similar to:\n",
    "\n",
    "```\n",
    "URL to CONNECT for JOB 2454254 is http://172.30.4.165\n",
    "[I 10:27:03.417 NotebookApp] http://[all ip addresses on your system]:8888/\n",
    "```\n",
    "\n",
    "when the job has started and the Jupyter notebook server has launched successfully."
   ]
  },
  {
   "cell_type": "markdown",
   "metadata": {},
   "source": [
    "You can now access the notebook server by opening a web browser on your **local** machine and, in this case above entering the address:\n",
    "\n",
    "```\n",
    "http://172.30.4.165:8888\n",
    "```\n",
    "\n",
    "If you have follwed the tutorial successfully you should be prompted for the password you entered in the previous episode, running interactively , and be launched into the familar Jupyter notebooks environment."
   ]
  },
  {
   "cell_type": "markdown",
   "metadata": {},
   "source": [
    "## Key Points:\n",
    "- You can run Jupyter notebooks from a batch session on Balena\n",
    "- You can then access the notebook server from a browser on your local machine\n",
    "- You will need to wait until the job launches."
   ]
  }
 ],
 "metadata": {
  "kernelspec": {
   "display_name": "Python 3",
   "language": "python",
   "name": "python3"
  },
  "language_info": {
   "codemirror_mode": {
    "name": "ipython",
    "version": 3
   },
   "file_extension": ".py",
   "mimetype": "text/x-python",
   "name": "python",
   "nbconvert_exporter": "python",
   "pygments_lexer": "ipython3",
   "version": "3.7.3"
  }
 },
 "nbformat": 4,
 "nbformat_minor": 2
}
