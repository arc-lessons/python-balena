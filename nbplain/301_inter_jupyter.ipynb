{
 "cells": [
  {
   "cell_type": "markdown",
   "metadata": {},
   "source": [
    "# Run Jupyter Notebooks in an Interactive Session"
   ]
  },
  {
   "cell_type": "markdown",
   "metadata": {},
   "source": [
    "## Overview:\n",
    "- **Teaching:** 0 min\n",
    "- **Exercises:** 0 min\n",
    "\n",
    "**Questions**\n",
    "- How can I test my code using Jupyter notebooks on Balena\n",
    "\n",
    "**Objectives**\n",
    "- Understand how to set-up and access Jupyter notebooks from an interactive session on Balena"
   ]
  },
  {
   "cell_type": "markdown",
   "metadata": {},
   "source": [
    "## Login to Balena\n",
    "\n",
    "First of all you will need to login to Balena.\n",
    "\n",
    "Once you are logged in you can launch an interactive job using the command `sint`.  If you want to configure your interactive job then refer to the help `sint --help`."
   ]
  },
  {
   "cell_type": "markdown",
   "metadata": {},
   "source": [
    "## Information: Use of interactive sessions\n",
    "\n",
    "Please take note of the login message on Interactive nodes:\n",
    "\n",
    "```\n",
    "=================== Welcome to the Balena ITD service ===================\n",
    "\n",
    "This is an Interactive Test and Development node and SHOULD NOT\n",
    "be used for running any production workloads. Please refer our\n",
    "'Good User' guide for usage policy:-\n",
    "\n",
    "https://wiki.bath.ac.uk/display/BalenaHPC/Policies#Policies-GoodUserGuide\n",
    "\n",
    "============================= Thank you =================================\n",
    "\n",
    "```\n",
    "\n",
    "If you want to run large or long jobs please refer to the following episode on running Jupyter notebooks from the `batch` service.  Running workloads on this ***shared*** service is likely to be inefficient as other users may be testing parallel codes and performance is likely to be poor."
   ]
  },
  {
   "cell_type": "markdown",
   "metadata": {},
   "source": [
    "You now need to load the python/anaconda module you want to use:\n",
    "\n",
    "`module load python3/2019.x`\n",
    "\n",
    "and set a password so that only you can access the server:\n",
    "\n",
    "`jupyter notebook password`\n",
    "\n",
    "This will prompt you to enter and verify your password:\n",
    "\n",
    "```\n",
    "Enter password:\n",
    "Verify password:\n",
    "```\n",
    "\n",
    "Note that, as when you log in to Balena, the cursor will not move and no `*s` will print to the screen when you enter the password."
   ]
  },
  {
   "cell_type": "markdown",
   "metadata": {},
   "source": [
    "We are going to launch the Jupyter notebook server on the interactive node, and access this from a web browser on our local machine.  In order to do this we need to know the **ip address** of the node and the **port** that the server users.  We can get the first using the command:\n",
    "\n",
    "```\n",
    "host $(hostname)\n",
    "```\n",
    "\n",
    "which will produce an output similar to:\n",
    "\n",
    "```\n",
    "itd-ngpu-01.cm.balena has address 172.30.6.201\n",
    "```\n",
    "\n",
    "*Make sure that you run this in your own interactive session!*  "
   ]
  },
  {
   "cell_type": "markdown",
   "metadata": {},
   "source": [
    "Now we can launch the Jupyter notebook server:\n",
    "\n",
    "```\n",
    "jupyter notebook --ip=\"*\" --no-browser &\n",
    "```\n",
    "\n",
    "This will produce several lines of output. We need the line which contains output similar to:\n",
    "\n",
    "```\n",
    "[I 17:58:48.994 NotebookApp] http://[all ip addresses on your system]:8888/\n",
    "```\n",
    "\n",
    "You can now access the notebook server by opening a web browser on your **local** machine and, in this case above entering the address:\n",
    "\n",
    "```\n",
    "http://172.30.6.201:8888\n",
    "```\n",
    "\n",
    "If you have follwed the tutorial successfully you should be prompted for the password you entered earlier and be launched into the familar Jupyter notebooks environment."
   ]
  },
  {
   "cell_type": "markdown",
   "metadata": {},
   "source": [
    "## Key Points:\n",
    "- You can run Jupyter notebooks from an interactive session on Balena\n",
    "- You can then access the notebook server from a browser on your local machine"
   ]
  }
 ],
 "metadata": {
  "kernelspec": {
   "display_name": "Python 3",
   "language": "python",
   "name": "python3"
  },
  "language_info": {
   "codemirror_mode": {
    "name": "ipython",
    "version": 3
   },
   "file_extension": ".py",
   "mimetype": "text/x-python",
   "name": "python",
   "nbconvert_exporter": "python",
   "pygments_lexer": "ipython3",
   "version": "3.7.3"
  }
 },
 "nbformat": 4,
 "nbformat_minor": 2
}
