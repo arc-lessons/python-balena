{
 "cells": [
  {
   "cell_type": "markdown",
   "metadata": {
    "slideshow": {
     "slide_type": "slide"
    }
   },
   "source": [
    "# Anaconda and Jupyter (on Balena)\n",
    "\n",
    "This lesson contains a series of episodes introducing practice for using Anaconda and Jupyter notebooks on the University of Bath High Performance Computing (HPC) service, Balena.  Parts of the lessons, e.g. using conda to manage different environments may also be useful for running locally or on other services."
   ]
  },
  {
   "cell_type": "markdown",
   "metadata": {
    "slideshow": {
     "slide_type": "slide"
    }
   },
   "source": [
    "## Prerequisites:\n",
    "\n",
    "To complete this lesson you should be able to do all the things in this list:\n",
    "* Log in to Balena and familiarity with HPC services\n",
    "* Programming in Python\n",
    "* Using Jupyter notebooks"
   ]
  },
  {
   "cell_type": "markdown",
   "metadata": {
    "slideshow": {
     "slide_type": "slide"
    }
   },
   "source": [
    "## Schedule:\n",
    "\n",
    "\n",
    "Running Jupyter Notebooks on Balena:\n",
    "\n",
    "| Time | Episode | Description |\n",
    "|---|---|---|\n",
    "| 0:00 | [Interactive session](301_inter_jupyter.ipynb) | Run Jupyter notebooks in an interactive session |\n",
    "| 0:15 | [Batch Session](302_batch_jupyter.ipynb) | Run and access Jupyter notebooks in a batch session |"
   ]
  },
  {
   "cell_type": "markdown",
   "metadata": {
    "slideshow": {
     "slide_type": "slide"
    }
   },
   "source": [
    "## Setup:\n",
    "\n",
    "Each of the lessons assume that you are able to login to Balena, have been on the Introduction to HPC course, or have equivalent experience and have been given an account.  You will need to login to Balena to work through the material.  \n",
    "\n",
    "If you are off-campus you will need to [connect via vpn](https://www.bath.ac.uk/guides/setting-up-vpn-on-your-device/) in order to access Balena and the Jupyter server that you will launch."
   ]
  }
 ],
 "metadata": {
  "celltoolbar": "Slideshow",
  "kernelspec": {
   "display_name": "Python 3",
   "language": "python",
   "name": "python3"
  },
  "language_info": {
   "codemirror_mode": {
    "name": "ipython",
    "version": 3
   },
   "file_extension": ".py",
   "mimetype": "text/x-python",
   "name": "python",
   "nbconvert_exporter": "python",
   "pygments_lexer": "ipython3",
   "version": "3.7.3"
  }
 },
 "nbformat": 4,
 "nbformat_minor": 2
}
